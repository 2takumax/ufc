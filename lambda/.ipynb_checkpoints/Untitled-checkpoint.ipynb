{
 "cells": [
  {
   "cell_type": "code",
   "execution_count": 1,
   "id": "f55f7114-250d-4b97-8b66-9ed56d693373",
   "metadata": {},
   "outputs": [],
   "source": [
    "# import pandas as pd\n",
    "# import numpy as np\n",
    "import requests\n",
    "from bs4 import BeautifulSoup"
   ]
  },
  {
   "cell_type": "code",
   "execution_count": 2,
   "id": "8b220a02-9275-42e6-8c48-f516df353dec",
   "metadata": {},
   "outputs": [
    {
     "ename": "NameError",
     "evalue": "name 'pd' is not defined",
     "output_type": "error",
     "traceback": [
      "\u001b[0;31m---------------------------------------------------------------------------\u001b[0m",
      "\u001b[0;31mNameError\u001b[0m                                 Traceback (most recent call last)",
      "Cell \u001b[0;32mIn[2], line 33\u001b[0m\n\u001b[1;32m     30\u001b[0m event_locations \u001b[38;5;241m=\u001b[39m event_locations[\u001b[38;5;241m1\u001b[39m:]\n\u001b[1;32m     32\u001b[0m \u001b[38;5;66;03m# イベント詳細を格納するDataFrameを作成\u001b[39;00m\n\u001b[0;32m---> 33\u001b[0m event_details_df \u001b[38;5;241m=\u001b[39m \u001b[43mpd\u001b[49m\u001b[38;5;241m.\u001b[39mDataFrame({\n\u001b[1;32m     34\u001b[0m     \u001b[38;5;124m'\u001b[39m\u001b[38;5;124mEVENT\u001b[39m\u001b[38;5;124m'\u001b[39m:event_names,\n\u001b[1;32m     35\u001b[0m     \u001b[38;5;124m'\u001b[39m\u001b[38;5;124mURL\u001b[39m\u001b[38;5;124m'\u001b[39m:event_urls,\n\u001b[1;32m     36\u001b[0m     \u001b[38;5;124m'\u001b[39m\u001b[38;5;124mDATE\u001b[39m\u001b[38;5;124m'\u001b[39m:event_dates,\n\u001b[1;32m     37\u001b[0m     \u001b[38;5;124m'\u001b[39m\u001b[38;5;124mLOCATION\u001b[39m\u001b[38;5;124m'\u001b[39m:event_locations\n\u001b[1;32m     38\u001b[0m })\n\u001b[1;32m     40\u001b[0m \u001b[38;5;28mprint\u001b[39m(event_details_df)\n",
      "\u001b[0;31mNameError\u001b[0m: name 'pd' is not defined"
     ]
    }
   ],
   "source": [
    "    url = 'http://ufcstats.com/statistics/events/completed?page=all'\n",
    "\n",
    "    # URLからHTMLデータを取得\n",
    "    page = requests.get(url)\n",
    "    # soupを生成\n",
    "    soup = BeautifulSoup(page.content, 'html.parser')\n",
    "\n",
    "    # イベントの名前とURLを格納する空のリストを作成\n",
    "    event_names = []\n",
    "    event_urls = []\n",
    "    event_dates = []\n",
    "    event_locations = []\n",
    "\n",
    "    # イベントの名前とURLを抽出\n",
    "    for tag in soup.find_all('a', class_='b-link b-link_style_black'):\n",
    "        event_names.append(tag.text.strip())\n",
    "        event_urls.append(tag['href'])\n",
    "\n",
    "    # イベントの日付を抽出\n",
    "    for tag in soup.find_all('span', class_='b-statistics__date'):\n",
    "        event_dates.append(tag.text.strip())\n",
    "\n",
    "    # イベントの場所を抽出\n",
    "    for tag in soup.find_all('td', class_='b-statistics__table-col b-statistics__table-col_style_big-top-padding'):\n",
    "        event_locations.append(tag.text.strip())\n",
    "\n",
    "    # 最初のイベントの日付と場所をリストから削除\n",
    "    # 最初の要素は、まだ統計がない今後のイベントを表す\n",
    "    event_dates = event_dates[1:]\n",
    "    event_locations = event_locations[1:]\n",
    "\n",
    "    # イベント詳細を格納するDataFrameを作成\n",
    "    event_details_df = pd.DataFrame({\n",
    "        'EVENT':event_names,\n",
    "        'URL':event_urls,\n",
    "        'DATE':event_dates,\n",
    "        'LOCATION':event_locations\n",
    "    })\n",
    "\n",
    "    print(event_details_df)"
   ]
  },
  {
   "cell_type": "code",
   "execution_count": 4,
   "id": "0e145b79-f46e-4a00-a4cf-95fd7a7503ef",
   "metadata": {},
   "outputs": [],
   "source": [
    "import requests\n",
    "from bs4 import BeautifulSoup\n",
    "import csv\n",
    "\n",
    "url = 'http://ufcstats.com/statistics/events/completed?page=all'\n",
    "\n",
    "# URLからHTMLデータを取得\n",
    "page = requests.get(url)\n",
    "# soupを生成\n",
    "soup = BeautifulSoup(page.content, 'html.parser')\n",
    "\n",
    "# イベントの名前、URL、日付、場所を格納する空のリストを作成\n",
    "event_names = []\n",
    "event_urls = []\n",
    "event_dates = []\n",
    "event_locations = []\n",
    "\n",
    "# イベントの名前とURLを抽出\n",
    "for tag in soup.find_all('a', class_='b-link b-link_style_black'):\n",
    "    event_names.append(tag.text.strip())\n",
    "    event_urls.append(tag['href'])\n",
    "\n",
    "# イベントの日付を抽出\n",
    "for tag in soup.find_all('span', class_='b-statistics__date'):\n",
    "    event_dates.append(tag.text.strip())\n",
    "\n",
    "# イベントの場所を抽出\n",
    "for tag in soup.find_all('td', class_='b-statistics__table-col b-statistics__table-col_style_big-top-padding'):\n",
    "    event_locations.append(tag.text.strip())\n",
    "\n",
    "# 最初のイベントの日付と場所をリストから削除（最初の要素が今後のイベントを表す場合）\n",
    "event_dates = event_dates[1:]\n",
    "event_locations = event_locations[1:]\n",
    "\n",
    "# CSVファイルに保存\n",
    "with open('event_details.csv', 'w', newline='', encoding='utf-8') as file:\n",
    "    writer = csv.writer(file)\n",
    "    # CSVのヘッダー\n",
    "    writer.writerow(['EVENT', 'URL', 'DATE', 'LOCATION'])\n",
    "    \n",
    "    # 各イベントについて、詳細をCSVに書き込む\n",
    "    for i in range(len(event_names)):\n",
    "        writer.writerow([event_names[i], event_urls[i], event_dates[i], event_locations[i]])"
   ]
  }
 ],
 "metadata": {
  "kernelspec": {
   "display_name": "Python 3 (ipykernel)",
   "language": "python",
   "name": "python3"
  },
  "language_info": {
   "codemirror_mode": {
    "name": "ipython",
    "version": 3
   },
   "file_extension": ".py",
   "mimetype": "text/x-python",
   "name": "python",
   "nbconvert_exporter": "python",
   "pygments_lexer": "ipython3",
   "version": "3.11.5"
  }
 },
 "nbformat": 4,
 "nbformat_minor": 5
}
